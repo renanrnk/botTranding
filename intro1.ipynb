{
 "cells": [
  {
   "cell_type": "code",
   "execution_count": null,
   "metadata": {},
   "outputs": [],
   "source": [
    "import config as k\n",
    "import pandas as pd\n",
    "import ccxt\n",
    "import pandas_ta as ta\n",
    "import decimal\n",
    "import time\n",
    "\n",
    "binance = ccxt.binance({'enableRateLimit':True,\n",
    "                        'apiKey': k.binancekey,\n",
    "                        'secret': k.binancesecret,\n",
    "                        'options':{\n",
    "                            'defaultType': 'future',\n",
    "                        }\n",
    "})\n",
    "\n",
    "\n",
    "bal = binance.fetch_positions(symbols=['XRPUSDT'])"
   ]
  },
  {
   "cell_type": "code",
   "execution_count": null,
   "metadata": {},
   "outputs": [],
   "source": [
    "# symbol = 'XRPUSDT'\n",
    "# livro_ofertas = binance.fetch_order_book(symbol)\n",
    "# bid = decimal.Decimal(livro_ofertas['bids'][0][0])\n",
    "# ask = decimal.Decimal(livro_ofertas['asks'][0][0])\n",
    "# print(bid, ask)\n",
    "\n",
    "def livro_ofertas(symbol):\n",
    "    livro_ofertas = binance.fetch_order_book(symbol)\n",
    "    bid = decimal.Decimal(livro_ofertas['bids'][0][0])\n",
    "    ask = decimal.Decimal(livro_ofertas['asks'][0][0])\n",
    "    return bid, ask\n"
   ]
  },
  {
   "cell_type": "code",
   "execution_count": null,
   "metadata": {},
   "outputs": [],
   "source": [
    "def posicoes_abertas(symbol):\n",
    "    lado = []\n",
    "    tamanho = []\n",
    "    preco_entrada = []\n",
    "    notional = []\n",
    "    percentage = []\n",
    "    pnl = []\n",
    "    bal = binance.fetch_positions(symbols=[symbol])\n",
    "    for i in bal:\n",
    "        lado = i['side']\n",
    "        tamanho = i['info']['positionAmt'].replace('-','')\n",
    "        notional = i['notional']\n",
    "        preco_entrada = i['entryPrice']\n",
    "        percentage = i['percentage']\n",
    "        pnl = i['info']['unRealizedProfit']\n",
    "\n",
    "    if lado == 'long':\n",
    "        pos_aberta = True\n",
    "    elif lado == 'short':\n",
    "        pos_aberta = True\n",
    "    else:\n",
    "        pos_aberta = False          \n",
    "\n",
    "    return lado, tamanho, preco_entrada, pos_aberta, notional, percentage, pnl\n",
    "\n",
    "posicoes_abertas('XRPUSDT')\n",
    "\n"
   ]
  },
  {
   "cell_type": "code",
   "execution_count": null,
   "metadata": {},
   "outputs": [],
   "source": [
    "# symbol = 'XRPUSDT'\n",
    "\n",
    "def encerra_posicao(symbol):\n",
    "    pos_aberta = posicoes_abertas(symbol)[3]\n",
    "    while pos_aberta == True:\n",
    "        lado = posicoes_abertas(symbol)[0]\n",
    "        tamanho = posicoes_abertas(symbol)[1]\n",
    "\n",
    "        if lado == 'long':\n",
    "            binance.cancel_all_orders(symbol)\n",
    "            bid, ask = livro_ofertas(symbol)\n",
    "            ask = binance.price_to_precision(symbol, ask)\n",
    "            binance.create_order(symbol, side='sell', type='LIMIT', price=ask, amount=tamanho, params= {'hedged':'true'})\n",
    "            print(f'Vendendo posição long de {tamanho} moedas de {symbol}')\n",
    "            # msg = 'Vendendo posiçao...'\n",
    "            # telegram\n",
    "            time.sleep(20)\n",
    "\n",
    "        elif lado == 'short':\n",
    "            binance.cancel_all_orders(symbol)\n",
    "            bid, ask = livro_ofertas(symbol)\n",
    "            bid = binance.price_to_precision(symbol, bid)\n",
    "            binance.create_order(symbol, side='buy', type='LIMIT', price=bid, amount=tamanho, params= {'hedged':'true'})\n",
    "            print(f'Comprando posição short de {tamanho} moedas de {symbol}')\n",
    "            time.sleep(20)\n",
    "        else:\n",
    "            print('Impossível encerrar a posição!')\n",
    "\n",
    "        pos_aberta = posicoes_abertas(symbol=symbol)[3]\n"
   ]
  },
  {
   "cell_type": "code",
   "execution_count": null,
   "metadata": {},
   "outputs": [],
   "source": [
    "loss = -10\n",
    "target = 20\n",
    "\n",
    "def fecha_pnl(symbol, loss, target):\n",
    "    percent = posicoes_abertas(symbol=symbol)[5]\n",
    "    pnl = posicoes_abertas(symbol=symbol)[6]\n",
    "    if percent:\n",
    "        if percent <= loss:\n",
    "            print(f'Encerrando posição por loss! {pnl}')\n",
    "            encerra_posicao(symbol)\n",
    "            #telegram\n",
    "            # time.sleep(3000)\n",
    "        elif percent >= gain:\n",
    "            print(f'Encerra posiçao por gain! {pnl}')\n",
    "            #telegram\n"
   ]
  },
  {
   "cell_type": "code",
   "execution_count": null,
   "metadata": {},
   "outputs": [],
   "source": [
    "symbol = 'BTCUSDT'\n",
    "timeframe = '5m'\n",
    "bars = binance.fetch_ohlcv(symbol=symbol, timeframe=timeframe, limit=100)"
   ]
  },
  {
   "cell_type": "code",
   "execution_count": null,
   "metadata": {},
   "outputs": [],
   "source": [
    "df_candles = pd.DataFrame(bars, columns=['time', 'abertura', 'max', 'min', 'fechamento', 'volume'])\n",
    "df_candles['time'] = pd.to_datetime(df_candles['time'], unit='ms', utc=True).dt.tz_convert('America/Sao_Paulo')\n"
   ]
  },
  {
   "cell_type": "code",
   "execution_count": null,
   "metadata": {},
   "outputs": [],
   "source": [
    "df_candles"
   ]
  },
  {
   "cell_type": "code",
   "execution_count": null,
   "metadata": {},
   "outputs": [],
   "source": [
    "def posicao_max(symbol, max_pos):\n",
    "    pos = posicoes_abertas(symbol)[1]\n",
    "    if isinstance(pos, list):\n",
    "        max_posicao = False\n",
    "    elif float(pos) >= max_pos:\n",
    "        max_posicao = True\n",
    "    else:\n",
    "        max_posicao = False\n",
    "    return max_posicao\n",
    "\n",
    "# posicao_max('XRPUSDT', 4000)"
   ]
  },
  {
   "cell_type": "code",
   "execution_count": null,
   "metadata": {},
   "outputs": [],
   "source": [
    "def ultima_ordem_aberta(symbol):\n",
    "    order = []\n",
    "    order = binance.fetch_orders(symbol)[-1]['status']\n",
    "    if order == 'open':\n",
    "        open_order = True\n",
    "    else:\n",
    "        open_order = False\n",
    "    return open_order\n"
   ]
  },
  {
   "cell_type": "code",
   "execution_count": 3,
   "metadata": {},
   "outputs": [],
   "source": [
    "import config as k\n",
    "import pandas as pd\n",
    "import ccxt\n",
    "import pandas_ta as ta\n",
    "import decimal\n",
    "import time\n",
    "from ta.momentum import RSIIndicator\n",
    "\n",
    "binance = ccxt.binance({'enableRateLimit':True,\n",
    "                        'apiKey': k.binancekey,\n",
    "                        'secret': k.binancesecret,\n",
    "                        'options':{\n",
    "                            'defaultType': 'future',\n",
    "                        }\n",
    "})\n",
    "\n",
    "symbol = 'ETHUSDT'\n",
    "timeframe = '15m'\n",
    "bars = binance.fetch_ohlcv(symbol=symbol, timeframe=timeframe, limit=500)\n",
    "df_candles = pd.DataFrame(bars, columns=['time', 'abertura', 'max', 'min', 'fechamento', 'volume'])\n",
    "df_candles['time'] = pd.to_datetime(df_candles['time'], unit='ms', utc=True).map(lambda x: x.tz_convert('America/Sao_Paulo'))\n"
   ]
  },
  {
   "cell_type": "code",
   "execution_count": 4,
   "metadata": {},
   "outputs": [],
   "source": [
    "df_candles['suporte'] = df_candles['min'].rolling(window=10).min()\n",
    "df_candles['resistencia'] = df_candles['max'].rolling(window=10).max()"
   ]
  },
  {
   "cell_type": "code",
   "execution_count": 5,
   "metadata": {},
   "outputs": [],
   "source": [
    "def calc_sup_rest(df, tamanho=30):\n",
    "    df['suporte'] = df['min'].rolling(window=10).min()\n",
    "    df['resistencia'] = df['max'].rolling(window=10).max()\n",
    "\n",
    "    return df.iloc[-2]['suporte'], df.iloc[-2]['resistencia']\n",
    "\n",
    "sup, res = calc_sup_rest(df_candles)"
   ]
  },
  {
   "cell_type": "code",
   "execution_count": 14,
   "metadata": {},
   "outputs": [
    {
     "name": "stdout",
     "output_type": "stream",
     "text": [
      "99.51161269119558\n",
      "99.9976545469347\n",
      "99.99924007200079\n",
      "99.83171170736561\n"
     ]
    }
   ],
   "source": [
    "symbol = 'ETHUSDT'\n",
    "timeframe = '15m'\n",
    "bars = binance.fetch_ohlcv(symbol=symbol, timeframe=timeframe, limit=50)\n",
    "df_candles = pd.DataFrame(bars, columns=['time', 'abertura', 'max', 'min', 'fechamento', 'volume'])\n",
    "df_candles['time'] = pd.to_datetime(df_candles['time'], unit='ms', utc=True).map(lambda x: x.tz_convert('America/Sao_Paulo'))\n",
    "\n",
    "#definir stop loss e gain\n",
    "stop_loss = 0.01\n",
    "take_profit = 0.04\n",
    "\n",
    "#moedas para operar e possicao MAXIMA!\n",
    "alt_coins = {'LINK/USDT': 20, 'CHZ/USDT':3000, '1000SHIB/USDT':1500, 'TIA/USDT':50}\n",
    "\n",
    "#Aplicar funcao sup e resistencia\n",
    "suporte, resistencia = calc_sup_rest(df_candles)\n",
    "\n",
    "#preço do eth\n",
    "price = binance.fetch_trades(symbol)[-1]['price']\n",
    "\n",
    "if price > 0:\n",
    "    coinData = {}\n",
    "\n",
    "    for coin in alt_coins:\n",
    "        altcoins_price = binance.fetch_trades(coin)[-1]['price']\n",
    "        coinData[coin] = abs((altcoins_price - price) / price) * 100\n",
    "        print(coinData[coin])\n"
   ]
  },
  {
   "cell_type": "code",
   "execution_count": 6,
   "metadata": {},
   "outputs": [
    {
     "data": {
      "text/plain": [
       "(3267.28, 3324.21)"
      ]
     },
     "execution_count": 6,
     "metadata": {},
     "output_type": "execute_result"
    }
   ],
   "source": [
    "sup, res"
   ]
  },
  {
   "cell_type": "code",
   "execution_count": null,
   "metadata": {},
   "outputs": [],
   "source": [
    "smas = [5, 10, 50, 200]\n",
    "\n",
    "for sma in smas:\n",
    "    df_candles[f'SMS_{sma}'] = df_candles['fechamento'].rolling(sma).mean()\n",
    "\n",
    "df_candles['SMA_20'] = ta.sma(close=df_candles.fechamento, length=20)\n",
    "df_candles['EMA_20'] = ta.ema(close=df_candles.fechamento, length=20)"
   ]
  },
  {
   "cell_type": "code",
   "execution_count": null,
   "metadata": {},
   "outputs": [],
   "source": [
    "rsi = RSIIndicator(df_candles['fechamento'])\n",
    "df_candles['RSI'] = rsi.rsi()"
   ]
  },
  {
   "cell_type": "code",
   "execution_count": null,
   "metadata": {},
   "outputs": [],
   "source": [
    "bollinger_bands = ta.bbands(df_candles.fechamento, length=20, std=2)"
   ]
  },
  {
   "cell_type": "code",
   "execution_count": null,
   "metadata": {},
   "outputs": [],
   "source": [
    "bollinger_bands = bollinger_bands.iloc[:,[0,1,2]]\n",
    "bollinger_bands.columns = ['BBL', 'BBM', 'BBU']\n",
    "\n",
    "df_candles = pd.concat([df_candles, bollinger_bands], axis=1)"
   ]
  },
  {
   "cell_type": "code",
   "execution_count": null,
   "metadata": {},
   "outputs": [],
   "source": [
    "macd = df_candles.ta.macd(close='fechamento', fast=12, slow=26, signal=9, append=True)\n",
    "# df_candles = pd.concat([df_candles, macd], axis=1)"
   ]
  },
  {
   "cell_type": "code",
   "execution_count": null,
   "metadata": {},
   "outputs": [],
   "source": [
    "df_candles['preco_ponderado'] = df_candles['fechamento'] * df_candles['volume']\n",
    "df_candles['VWAP'] = df_candles['preco_ponderado'].sum() / df_candles['volume'].sum()"
   ]
  },
  {
   "cell_type": "code",
   "execution_count": null,
   "metadata": {},
   "outputs": [],
   "source": [
    "print(df_candles)"
   ]
  }
 ],
 "metadata": {
  "kernelspec": {
   "display_name": "base",
   "language": "python",
   "name": "python3"
  },
  "language_info": {
   "codemirror_mode": {
    "name": "ipython",
    "version": 3
   },
   "file_extension": ".py",
   "mimetype": "text/x-python",
   "name": "python",
   "nbconvert_exporter": "python",
   "pygments_lexer": "ipython3",
   "version": "3.12.7"
  }
 },
 "nbformat": 4,
 "nbformat_minor": 2
}
